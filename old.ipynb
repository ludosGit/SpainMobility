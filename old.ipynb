{
 "cells": [
  {
   "cell_type": "markdown",
   "metadata": {},
   "source": [
    "# Mobility Data 07/2020 MUNICIPIOS"
   ]
  },
  {
   "cell_type": "code",
   "execution_count": 2,
   "metadata": {},
   "outputs": [],
   "source": [
    "import pandas as pd\n",
    "import matplotlib.pyplot as plt\n",
    "import matplotlib as mpl\n",
    "import numpy as np\n",
    "from statsmodels.tsa.seasonal import seasonal_decompose\n",
    "import seaborn as sns"
   ]
  },
  {
   "cell_type": "markdown",
   "metadata": {},
   "source": [
    "## Maestra1 (per person)"
   ]
  },
  {
   "cell_type": "code",
   "execution_count": null,
   "metadata": {},
   "outputs": [],
   "source": [
    "# # unzip\n",
    "# path_mes = 'maestra1/municipios/202006_maestra1_mitma_municipio.tar'\n",
    "# # df_mes = pd.read_csv(path_mes, compression='infer', header=0, sep='|', quotechar='\"', error_bad_lines=False)\n",
    "# import tarfile\n",
    "\n",
    "# with tarfile.open(path_mes, \"r\") as tf:\n",
    "#     print(\"Opened tarfile\")\n",
    "#     tf.extractall(path=\"./extraction_dir\")\n",
    "#     print(\"All files extracted\")\n",
    "#     # df_mes = pd.read_csv(tf, compression='infer', header=0, sep='|', quotechar='\"', error_bad_lines=False)"
   ]
  },
  {
   "cell_type": "code",
   "execution_count": 3,
   "metadata": {},
   "outputs": [
    {
     "name": "stderr",
     "output_type": "stream",
     "text": [
      "/var/folders/d3/rdvhjvc52n99n0pgdzgxgtph0000gq/T/ipykernel_1643/2852021291.py:5: FutureWarning: The error_bad_lines argument has been deprecated and will be removed in a future version. Use on_bad_lines in the future.\n",
      "\n",
      "\n",
      "  df1 = pd.read_csv(path, compression='gzip', header=0, sep='|', quotechar='\"', error_bad_lines=False)\n",
      "/var/folders/d3/rdvhjvc52n99n0pgdzgxgtph0000gq/T/ipykernel_1643/2852021291.py:5: FutureWarning: The error_bad_lines argument has been deprecated and will be removed in a future version. Use on_bad_lines in the future.\n",
      "\n",
      "\n",
      "  df1 = pd.read_csv(path, compression='gzip', header=0, sep='|', quotechar='\"', error_bad_lines=False)\n",
      "/var/folders/d3/rdvhjvc52n99n0pgdzgxgtph0000gq/T/ipykernel_1643/2852021291.py:5: FutureWarning: The error_bad_lines argument has been deprecated and will be removed in a future version. Use on_bad_lines in the future.\n",
      "\n",
      "\n",
      "  df1 = pd.read_csv(path, compression='gzip', header=0, sep='|', quotechar='\"', error_bad_lines=False)\n",
      "/var/folders/d3/rdvhjvc52n99n0pgdzgxgtph0000gq/T/ipykernel_1643/2852021291.py:5: FutureWarning: The error_bad_lines argument has been deprecated and will be removed in a future version. Use on_bad_lines in the future.\n",
      "\n",
      "\n",
      "  df1 = pd.read_csv(path, compression='gzip', header=0, sep='|', quotechar='\"', error_bad_lines=False)\n",
      "/var/folders/d3/rdvhjvc52n99n0pgdzgxgtph0000gq/T/ipykernel_1643/2852021291.py:5: FutureWarning: The error_bad_lines argument has been deprecated and will be removed in a future version. Use on_bad_lines in the future.\n",
      "\n",
      "\n",
      "  df1 = pd.read_csv(path, compression='gzip', header=0, sep='|', quotechar='\"', error_bad_lines=False)\n",
      "/var/folders/d3/rdvhjvc52n99n0pgdzgxgtph0000gq/T/ipykernel_1643/2852021291.py:5: FutureWarning: The error_bad_lines argument has been deprecated and will be removed in a future version. Use on_bad_lines in the future.\n",
      "\n",
      "\n",
      "  df1 = pd.read_csv(path, compression='gzip', header=0, sep='|', quotechar='\"', error_bad_lines=False)\n",
      "/var/folders/d3/rdvhjvc52n99n0pgdzgxgtph0000gq/T/ipykernel_1643/2852021291.py:5: FutureWarning: The error_bad_lines argument has been deprecated and will be removed in a future version. Use on_bad_lines in the future.\n",
      "\n",
      "\n",
      "  df1 = pd.read_csv(path, compression='gzip', header=0, sep='|', quotechar='\"', error_bad_lines=False)\n",
      "/var/folders/d3/rdvhjvc52n99n0pgdzgxgtph0000gq/T/ipykernel_1643/2852021291.py:5: FutureWarning: The error_bad_lines argument has been deprecated and will be removed in a future version. Use on_bad_lines in the future.\n",
      "\n",
      "\n",
      "  df1 = pd.read_csv(path, compression='gzip', header=0, sep='|', quotechar='\"', error_bad_lines=False)\n",
      "/var/folders/d3/rdvhjvc52n99n0pgdzgxgtph0000gq/T/ipykernel_1643/2852021291.py:5: FutureWarning: The error_bad_lines argument has been deprecated and will be removed in a future version. Use on_bad_lines in the future.\n",
      "\n",
      "\n",
      "  df1 = pd.read_csv(path, compression='gzip', header=0, sep='|', quotechar='\"', error_bad_lines=False)\n"
     ]
    },
    {
     "name": "stdout",
     "output_type": "stream",
     "text": [
      "<class 'pandas.core.frame.DataFrame'>\n",
      "RangeIndex: 12561485 entries, 0 to 12561484\n",
      "Data columns (total 7 columns):\n",
      " #   Column     Dtype  \n",
      "---  ------     -----  \n",
      " 0   day        int64  \n",
      " 1   origen     object \n",
      " 2   destino    object \n",
      " 3   periodo    int64  \n",
      " 4   distancia  object \n",
      " 5   viajes     float64\n",
      " 6   viajes_km  float64\n",
      "dtypes: float64(2), int64(2), object(3)\n",
      "memory usage: 670.9+ MB\n"
     ]
    }
   ],
   "source": [
    "df = pd.DataFrame([])\n",
    "# days from 1 to 9\n",
    "for i in range(1,10):\n",
    "    path = f'maestra1/municipios/dias/2020060{i}_maestra_1_mitma_municipio.txt.gz'\n",
    "    df1 = pd.read_csv(path, compression='gzip', header=0, sep='|', quotechar='\"', error_bad_lines=False)\n",
    "    df1 = df1.rename(columns={'fecha': 'day'})\n",
    "    df1['day'] = i\n",
    "    df = pd.concat([df, df1], ignore_index=True)\n",
    "df.info()"
   ]
  },
  {
   "cell_type": "code",
   "execution_count": 4,
   "metadata": {},
   "outputs": [
    {
     "name": "stderr",
     "output_type": "stream",
     "text": [
      "/var/folders/d3/rdvhjvc52n99n0pgdzgxgtph0000gq/T/ipykernel_1643/103271253.py:4: FutureWarning: The error_bad_lines argument has been deprecated and will be removed in a future version. Use on_bad_lines in the future.\n",
      "\n",
      "\n",
      "  df1 = pd.read_csv(path, compression='gzip', header=0, sep='|', quotechar='\"', error_bad_lines=False)\n",
      "/var/folders/d3/rdvhjvc52n99n0pgdzgxgtph0000gq/T/ipykernel_1643/103271253.py:4: FutureWarning: The error_bad_lines argument has been deprecated and will be removed in a future version. Use on_bad_lines in the future.\n",
      "\n",
      "\n",
      "  df1 = pd.read_csv(path, compression='gzip', header=0, sep='|', quotechar='\"', error_bad_lines=False)\n",
      "/var/folders/d3/rdvhjvc52n99n0pgdzgxgtph0000gq/T/ipykernel_1643/103271253.py:4: FutureWarning: The error_bad_lines argument has been deprecated and will be removed in a future version. Use on_bad_lines in the future.\n",
      "\n",
      "\n",
      "  df1 = pd.read_csv(path, compression='gzip', header=0, sep='|', quotechar='\"', error_bad_lines=False)\n",
      "/var/folders/d3/rdvhjvc52n99n0pgdzgxgtph0000gq/T/ipykernel_1643/103271253.py:4: FutureWarning: The error_bad_lines argument has been deprecated and will be removed in a future version. Use on_bad_lines in the future.\n",
      "\n",
      "\n",
      "  df1 = pd.read_csv(path, compression='gzip', header=0, sep='|', quotechar='\"', error_bad_lines=False)\n",
      "/var/folders/d3/rdvhjvc52n99n0pgdzgxgtph0000gq/T/ipykernel_1643/103271253.py:4: FutureWarning: The error_bad_lines argument has been deprecated and will be removed in a future version. Use on_bad_lines in the future.\n",
      "\n",
      "\n",
      "  df1 = pd.read_csv(path, compression='gzip', header=0, sep='|', quotechar='\"', error_bad_lines=False)\n",
      "/var/folders/d3/rdvhjvc52n99n0pgdzgxgtph0000gq/T/ipykernel_1643/103271253.py:4: FutureWarning: The error_bad_lines argument has been deprecated and will be removed in a future version. Use on_bad_lines in the future.\n",
      "\n",
      "\n",
      "  df1 = pd.read_csv(path, compression='gzip', header=0, sep='|', quotechar='\"', error_bad_lines=False)\n",
      "/var/folders/d3/rdvhjvc52n99n0pgdzgxgtph0000gq/T/ipykernel_1643/103271253.py:4: FutureWarning: The error_bad_lines argument has been deprecated and will be removed in a future version. Use on_bad_lines in the future.\n",
      "\n",
      "\n",
      "  df1 = pd.read_csv(path, compression='gzip', header=0, sep='|', quotechar='\"', error_bad_lines=False)\n",
      "/var/folders/d3/rdvhjvc52n99n0pgdzgxgtph0000gq/T/ipykernel_1643/103271253.py:4: FutureWarning: The error_bad_lines argument has been deprecated and will be removed in a future version. Use on_bad_lines in the future.\n",
      "\n",
      "\n",
      "  df1 = pd.read_csv(path, compression='gzip', header=0, sep='|', quotechar='\"', error_bad_lines=False)\n",
      "/var/folders/d3/rdvhjvc52n99n0pgdzgxgtph0000gq/T/ipykernel_1643/103271253.py:4: FutureWarning: The error_bad_lines argument has been deprecated and will be removed in a future version. Use on_bad_lines in the future.\n",
      "\n",
      "\n",
      "  df1 = pd.read_csv(path, compression='gzip', header=0, sep='|', quotechar='\"', error_bad_lines=False)\n",
      "/var/folders/d3/rdvhjvc52n99n0pgdzgxgtph0000gq/T/ipykernel_1643/103271253.py:4: FutureWarning: The error_bad_lines argument has been deprecated and will be removed in a future version. Use on_bad_lines in the future.\n",
      "\n",
      "\n",
      "  df1 = pd.read_csv(path, compression='gzip', header=0, sep='|', quotechar='\"', error_bad_lines=False)\n",
      "/var/folders/d3/rdvhjvc52n99n0pgdzgxgtph0000gq/T/ipykernel_1643/103271253.py:4: FutureWarning: The error_bad_lines argument has been deprecated and will be removed in a future version. Use on_bad_lines in the future.\n",
      "\n",
      "\n",
      "  df1 = pd.read_csv(path, compression='gzip', header=0, sep='|', quotechar='\"', error_bad_lines=False)\n",
      "/var/folders/d3/rdvhjvc52n99n0pgdzgxgtph0000gq/T/ipykernel_1643/103271253.py:4: FutureWarning: The error_bad_lines argument has been deprecated and will be removed in a future version. Use on_bad_lines in the future.\n",
      "\n",
      "\n",
      "  df1 = pd.read_csv(path, compression='gzip', header=0, sep='|', quotechar='\"', error_bad_lines=False)\n",
      "/var/folders/d3/rdvhjvc52n99n0pgdzgxgtph0000gq/T/ipykernel_1643/103271253.py:4: FutureWarning: The error_bad_lines argument has been deprecated and will be removed in a future version. Use on_bad_lines in the future.\n",
      "\n",
      "\n",
      "  df1 = pd.read_csv(path, compression='gzip', header=0, sep='|', quotechar='\"', error_bad_lines=False)\n",
      "/var/folders/d3/rdvhjvc52n99n0pgdzgxgtph0000gq/T/ipykernel_1643/103271253.py:4: FutureWarning: The error_bad_lines argument has been deprecated and will be removed in a future version. Use on_bad_lines in the future.\n",
      "\n",
      "\n",
      "  df1 = pd.read_csv(path, compression='gzip', header=0, sep='|', quotechar='\"', error_bad_lines=False)\n",
      "/var/folders/d3/rdvhjvc52n99n0pgdzgxgtph0000gq/T/ipykernel_1643/103271253.py:4: FutureWarning: The error_bad_lines argument has been deprecated and will be removed in a future version. Use on_bad_lines in the future.\n",
      "\n",
      "\n",
      "  df1 = pd.read_csv(path, compression='gzip', header=0, sep='|', quotechar='\"', error_bad_lines=False)\n",
      "/var/folders/d3/rdvhjvc52n99n0pgdzgxgtph0000gq/T/ipykernel_1643/103271253.py:4: FutureWarning: The error_bad_lines argument has been deprecated and will be removed in a future version. Use on_bad_lines in the future.\n",
      "\n",
      "\n",
      "  df1 = pd.read_csv(path, compression='gzip', header=0, sep='|', quotechar='\"', error_bad_lines=False)\n",
      "/var/folders/d3/rdvhjvc52n99n0pgdzgxgtph0000gq/T/ipykernel_1643/103271253.py:4: FutureWarning: The error_bad_lines argument has been deprecated and will be removed in a future version. Use on_bad_lines in the future.\n",
      "\n",
      "\n",
      "  df1 = pd.read_csv(path, compression='gzip', header=0, sep='|', quotechar='\"', error_bad_lines=False)\n",
      "/var/folders/d3/rdvhjvc52n99n0pgdzgxgtph0000gq/T/ipykernel_1643/103271253.py:4: FutureWarning: The error_bad_lines argument has been deprecated and will be removed in a future version. Use on_bad_lines in the future.\n",
      "\n",
      "\n",
      "  df1 = pd.read_csv(path, compression='gzip', header=0, sep='|', quotechar='\"', error_bad_lines=False)\n",
      "/var/folders/d3/rdvhjvc52n99n0pgdzgxgtph0000gq/T/ipykernel_1643/103271253.py:4: FutureWarning: The error_bad_lines argument has been deprecated and will be removed in a future version. Use on_bad_lines in the future.\n",
      "\n",
      "\n",
      "  df1 = pd.read_csv(path, compression='gzip', header=0, sep='|', quotechar='\"', error_bad_lines=False)\n",
      "/var/folders/d3/rdvhjvc52n99n0pgdzgxgtph0000gq/T/ipykernel_1643/103271253.py:4: FutureWarning: The error_bad_lines argument has been deprecated and will be removed in a future version. Use on_bad_lines in the future.\n",
      "\n",
      "\n",
      "  df1 = pd.read_csv(path, compression='gzip', header=0, sep='|', quotechar='\"', error_bad_lines=False)\n",
      "/var/folders/d3/rdvhjvc52n99n0pgdzgxgtph0000gq/T/ipykernel_1643/103271253.py:4: FutureWarning: The error_bad_lines argument has been deprecated and will be removed in a future version. Use on_bad_lines in the future.\n",
      "\n",
      "\n",
      "  df1 = pd.read_csv(path, compression='gzip', header=0, sep='|', quotechar='\"', error_bad_lines=False)\n"
     ]
    },
    {
     "name": "stdout",
     "output_type": "stream",
     "text": [
      "<class 'pandas.core.frame.DataFrame'>\n",
      "RangeIndex: 44753806 entries, 0 to 44753805\n",
      "Data columns (total 7 columns):\n",
      " #   Column     Dtype  \n",
      "---  ------     -----  \n",
      " 0   day        int64  \n",
      " 1   origen     object \n",
      " 2   destino    object \n",
      " 3   periodo    int64  \n",
      " 4   distancia  object \n",
      " 5   viajes     float64\n",
      " 6   viajes_km  float64\n",
      "dtypes: float64(2), int64(2), object(3)\n",
      "memory usage: 2.3+ GB\n"
     ]
    }
   ],
   "source": [
    "# days from 10 to 30\n",
    "for i in range(10,31):\n",
    "    path = f'maestra1/municipios/dias/202006{i}_maestra_1_mitma_municipio.txt.gz'\n",
    "    df1 = pd.read_csv(path, compression='gzip', header=0, sep='|', quotechar='\"', error_bad_lines=False)\n",
    "    df1 = df1.rename(columns={'fecha': 'day'})\n",
    "    df1['day'] = i\n",
    "    df = pd.concat([df, df1], ignore_index=True)\n",
    "df.info()"
   ]
  },
  {
   "cell_type": "markdown",
   "metadata": {},
   "source": [
    "Periodo: hour of the day\n",
    "\n",
    "Distancia: "
   ]
  },
  {
   "cell_type": "code",
   "execution_count": 7,
   "metadata": {},
   "outputs": [
    {
     "name": "stdout",
     "output_type": "stream",
     "text": [
      "    day    origen   destino  periodo distancia  viajes  viajes_km\n",
      "0     1  01001_AM  01001_AM        0   002-005  31.904    147.625\n",
      "1     1  01001_AM  01001_AM        0   005-010  29.294    195.605\n",
      "2     1  01001_AM  01001_AM        0   010-050  18.305    225.574\n",
      "3     1  01001_AM  01001_AM        1   002-005  17.785     72.211\n",
      "4     1  01001_AM  01001_AM        1   005-010  21.103    160.270\n",
      "5     1  01001_AM  01001_AM        1   010-050   6.431     85.739\n",
      "6     1  01001_AM  01001_AM        2   005-010  36.193    230.276\n",
      "7     1  01001_AM  01001_AM        2   010-050  18.942    240.128\n",
      "8     1  01001_AM  01001_AM        3   005-010  23.416    158.227\n",
      "9     1  01001_AM  01001_AM        3   010-050   4.634     47.114\n",
      "10    1  01001_AM  01001_AM        4   002-005  34.118    114.821\n",
      "11    1  01001_AM  01001_AM        4   005-010  26.819    200.161\n",
      "12    1  01001_AM  01001_AM        4   010-050  28.303    403.410\n",
      "13    1  01001_AM  01001_AM        5   002-005  18.709     70.764\n",
      "14    1  01001_AM  01001_AM        5   005-010  40.015    279.144\n",
      "<class 'pandas.core.frame.DataFrame'>\n",
      "RangeIndex: 44753806 entries, 0 to 44753805\n",
      "Data columns (total 7 columns):\n",
      " #   Column     Dtype  \n",
      "---  ------     -----  \n",
      " 0   day        int64  \n",
      " 1   origen     object \n",
      " 2   destino    object \n",
      " 3   periodo    int64  \n",
      " 4   distancia  object \n",
      " 5   viajes     float64\n",
      " 6   viajes_km  float64\n",
      "dtypes: float64(2), int64(2), object(3)\n",
      "memory usage: 2.3+ GB\n",
      "None\n"
     ]
    }
   ],
   "source": [
    "print(df.head(15))\n",
    "print(df.info())"
   ]
  },
  {
   "cell_type": "code",
   "execution_count": 6,
   "metadata": {},
   "outputs": [
    {
     "data": {
      "text/plain": [
       "array(['002-005', '005-010', '010-050', '0005-002', '050-100', '100+'],\n",
       "      dtype=object)"
      ]
     },
     "execution_count": 6,
     "metadata": {},
     "output_type": "execute_result"
    }
   ],
   "source": [
    "df['distancia'].unique()"
   ]
  },
  {
   "cell_type": "code",
   "execution_count": null,
   "metadata": {},
   "outputs": [],
   "source": [
    "# add variable weekends\n",
    "df['weekend'] = [0 for _ in range(len(df))]\n",
    "weekdays = [6, 13, 20, 27, 7, 14, 21, 28]\n",
    "cond = df['day'].isin(weekdays)\n",
    "df.loc[cond, 'weekend'] = 1"
   ]
  },
  {
   "cell_type": "markdown",
   "metadata": {},
   "source": [
    "Now plot number of internal/external travels for the 10 most popolous municipalities:"
   ]
  },
  {
   "cell_type": "markdown",
   "metadata": {},
   "source": [
    "TODO: infer spanish habits. which hour of the day most viajes done? plot avg number viajes per hour\n"
   ]
  },
  {
   "cell_type": "code",
   "execution_count": 28,
   "metadata": {},
   "outputs": [
    {
     "name": "stdout",
     "output_type": "stream",
     "text": [
      "               viajes     viajes_km    weekend   external\n",
      "periodo                                                  \n",
      "0        3.517493e+06  2.019656e+07  46129.625  40592.375\n",
      "1        2.601524e+06  1.477113e+07  40005.875  34749.875\n",
      "2        1.908620e+06  1.147486e+07  35280.750  30345.875\n",
      "3        1.489728e+06  1.000203e+07  32889.375  28178.250\n",
      "4        1.326195e+06  1.068172e+07  33460.375  28859.500\n",
      "5        1.494996e+06  1.455716e+07  38932.125  34229.250\n",
      "6        1.893628e+06  2.030220e+07  45511.375  40477.375\n",
      "7        2.434703e+06  2.615019e+07  51964.750  46653.500\n",
      "8        3.084784e+06  3.252369e+07  58255.000  52696.250\n",
      "9        3.914856e+06  4.016336e+07  64530.000  58751.875\n",
      "10       4.725860e+06  4.765166e+07  70296.625  64383.750\n",
      "11       5.495989e+06  5.410288e+07  75001.000  68981.125\n",
      "12       6.002504e+06  5.615744e+07  76302.375  70228.250\n",
      "13       6.118277e+06  5.392101e+07  73838.000  67730.875\n",
      "14       5.232817e+06  4.580055e+07  67442.750  61458.250\n",
      "15       4.456511e+06  4.380064e+07  66148.250  60307.500\n",
      "16       4.568177e+06  4.854936e+07  69633.875  63801.875\n",
      "17       4.957058e+06  5.294285e+07  72531.000  66616.625\n",
      "18       5.491400e+06  5.603886e+07  73954.750  67978.875\n",
      "19       5.968662e+06  5.641345e+07  73341.625  67306.750\n",
      "20       6.061720e+06  5.148348e+07  69979.125  63944.750\n",
      "21       5.695227e+06  4.247299e+07  64058.750  58043.250\n",
      "22       4.715721e+06  3.161568e+07  56120.625  50288.125\n",
      "23       3.141196e+06  1.735043e+07  43207.875  37707.500\n"
     ]
    }
   ],
   "source": [
    "# divide between workdays and weekends:\n",
    "df_weekend = df[df['day'].isin(weekdays)].groupby(['day', 'periodo']).sum()\n",
    "hours = df['periodo'].unique()\n",
    "\n",
    "# df_weekend = df_weekend.groupby(['periodo']).mean()\n",
    "# avgs_weekend = df_weekend['viajes'].values\n",
    "print(df_weekend.groupby(level=['periodo']).mean())"
   ]
  },
  {
   "cell_type": "code",
   "execution_count": 29,
   "metadata": {},
   "outputs": [],
   "source": [
    "# # check if operations are correct!!!\n",
    "# d = {'day': [1,1,2,2,3,3,3], 'hour': [11,11,11,12,11,12,11], 'value': [1,2,3,3,2,3,1], 'random':['dio', 'porco','dio', 'porco', 'dio', 'porco', 'io']}\n",
    "# dataframe = pd.DataFrame(data=d)\n",
    "# dataframe1 = dataframe.groupby(['day', 'hour']).sum()\n",
    "# dataframe2 = dataframe1.groupby(level='hour').mean()\n",
    "# print(dataframe2.head())\n",
    "# dataframe1 = df.groupby(['day', 'periodo']).sum()\n",
    "# print(dataframe1.head())\n",
    "# x = dataframe1.groupby(level=['periodo']).mean()['viajes'].values\n",
    "# print(avgs_work - x)\n"
   ]
  },
  {
   "cell_type": "code",
   "execution_count": 30,
   "metadata": {},
   "outputs": [
    {
     "name": "stdout",
     "output_type": "stream",
     "text": [
      "               viajes     viajes_km    weekend   external\n",
      "periodo                                                  \n",
      "0        3.517493e+06  2.019656e+07  46129.625  40592.375\n",
      "1        2.601524e+06  1.477113e+07  40005.875  34749.875\n",
      "2        1.908620e+06  1.147486e+07  35280.750  30345.875\n",
      "3        1.489728e+06  1.000203e+07  32889.375  28178.250\n",
      "4        1.326195e+06  1.068172e+07  33460.375  28859.500\n"
     ]
    }
   ],
   "source": [
    "df_weekend1 = df_weekend.groupby(level=['periodo']).mean()\n",
    "avgs_weekend = df_weekend1['viajes'].values\n",
    "print(df_weekend1.head())"
   ]
  },
  {
   "cell_type": "code",
   "execution_count": 31,
   "metadata": {},
   "outputs": [],
   "source": [
    "df_work = df[~df['day'].isin(weekdays)].groupby(['day', 'periodo']).sum()\n",
    "df_work = df_work.groupby(level=['periodo']).mean()\n",
    "avgs_work = df_work['viajes'].values"
   ]
  },
  {
   "cell_type": "code",
   "execution_count": 32,
   "metadata": {},
   "outputs": [
    {
     "data": {
      "image/png": "[encoded data removed]",
      "text/plain": [
       "<Figure size 864x576 with 1 Axes>"
      ]
     },
     "metadata": {
      "needs_background": "light"
     },
     "output_type": "display_data"
    }
   ],
   "source": [
    "plt.figure(figsize=(12,8))\n",
    "X_axis = np.arange(len(hours))\n",
    "  \n",
    "plt.bar(X_axis - 0.2, avgs_work*1e-6, 0.4, label = 'workday', color='tab:grey')\n",
    "plt.bar(X_axis + 0.2, avgs_weekend*1e-6, 0.4, color='tab:olive', label='weekend')\n",
    "plt.xlabel('Hour', fontsize=14)\n",
    "plt.xticks(hours)\n",
    "plt.ylabel('Number of travels (mlns)', fontsize=15)\n",
    "plt.title('Hourly number of travels', fontsize=20)\n",
    "plt.legend()\n",
    "plt.ylim(top=7.5)\n",
    "\n",
    "plt.show()"
   ]
  },
  {
   "cell_type": "code",
   "execution_count": 33,
   "metadata": {},
   "outputs": [
    {
     "data": {
      "image/png": "[encoded data removed]",
      "text/plain": [
       "<Figure size 864x576 with 1 Axes>"
      ]
     },
     "metadata": {
      "needs_background": "light"
     },
     "output_type": "display_data"
    }
   ],
   "source": [
    "# same with viajes_km\n",
    "avgs_weekend = df_weekend1['viajes_km'].values\n",
    "avgs_work = df_work['viajes_km'].values\n",
    "plt.figure(figsize=(12,8))\n",
    "X_axis = np.arange(len(hours))\n",
    "  \n",
    "plt.bar(X_axis - 0.2, avgs_work*1e-7, 0.4, label = 'workday', color='tab:grey')\n",
    "plt.bar(X_axis + 0.2, avgs_weekend*1e-7, 0.4, color='tab:olive', label='weekend')\n",
    "plt.xlabel('Hour', fontsize=14)\n",
    "plt.xticks(hours)\n",
    "plt.ylabel('Kilometers (1e7)', fontsize=15)\n",
    "plt.title('Hourly number of km traveled', fontsize=20)\n",
    "plt.legend()\n",
    "\n",
    "plt.show()"
   ]
  },
  {
   "cell_type": "markdown",
   "metadata": {},
   "source": [
    "TODO: use distancia label encoder, find which travels are internal/external"
   ]
  },
  {
   "cell_type": "code",
   "execution_count": 34,
   "metadata": {},
   "outputs": [
    {
     "name": "stdout",
     "output_type": "stream",
     "text": [
      "               periodo        viajes     viajes_km  weekend  external\n",
      "distancia day                                                        \n",
      "0005-002  1    1019148  3.836383e+07  4.551382e+07        0     47982\n",
      "          2    1022750  3.925588e+07  4.655733e+07        0     48475\n",
      "          3    1021510  3.907852e+07  4.637213e+07        0     48352\n",
      "          4    1016425  3.876002e+07  4.600749e+07        0     48267\n",
      "          5    1028134  4.056766e+07  4.819318e+07        0     48541\n"
     ]
    }
   ],
   "source": [
    "group_distancia = df.groupby(['distancia', 'day']).sum()\n",
    "print(group_distancia.head())"
   ]
  },
  {
   "cell_type": "code",
   "execution_count": 35,
   "metadata": {},
   "outputs": [
    {
     "name": "stdout",
     "output_type": "stream",
     "text": [
      "<class 'pandas.core.frame.DataFrame'>\n",
      "MultiIndex: 180 entries, ('0005-002', 1) to ('100+', 30)\n",
      "Data columns (total 5 columns):\n",
      " #   Column     Non-Null Count  Dtype  \n",
      "---  ------     --------------  -----  \n",
      " 0   periodo    180 non-null    int64  \n",
      " 1   viajes     180 non-null    float64\n",
      " 2   viajes_km  180 non-null    float64\n",
      " 3   weekend    180 non-null    int64  \n",
      " 4   external   180 non-null    int64  \n",
      "dtypes: float64(2), int64(3)\n",
      "memory usage: 7.8+ KB\n"
     ]
    },
    {
     "data": {
      "text/plain": [
       "periodo      7.646180e+05\n",
       "viajes       6.169966e+05\n",
       "viajes_km    1.327108e+08\n",
       "weekend      0.000000e+00\n",
       "external     6.824800e+04\n",
       "Name: (100+, 1), dtype: float64"
      ]
     },
     "execution_count": 35,
     "metadata": {},
     "output_type": "execute_result"
    }
   ],
   "source": [
    "group_distancia.info()\n",
    "# print(distances)\n",
    "# for g in distances:\n",
    "#     df_g = group_distancia.get_group(g)\n",
    "group_distancia.loc[('100+', 1)]"
   ]
  },
  {
   "cell_type": "code",
   "execution_count": 36,
   "metadata": {},
   "outputs": [
    {
     "name": "stdout",
     "output_type": "stream",
     "text": [
      "    day    origen   destino  periodo distancia  viajes  viajes_km  weekend  \\\n",
      "0     1  01001_AM  01001_AM        0   002-005  31.904    147.625        0   \n",
      "1     1  01001_AM  01001_AM        0   005-010  29.294    195.605        0   \n",
      "2     1  01001_AM  01001_AM        0   010-050  18.305    225.574        0   \n",
      "3     1  01001_AM  01001_AM        1   002-005  17.785     72.211        0   \n",
      "4     1  01001_AM  01001_AM        1   005-010  21.103    160.270        0   \n",
      "5     1  01001_AM  01001_AM        1   010-050   6.431     85.739        0   \n",
      "6     1  01001_AM  01001_AM        2   005-010  36.193    230.276        0   \n",
      "7     1  01001_AM  01001_AM        2   010-050  18.942    240.128        0   \n",
      "8     1  01001_AM  01001_AM        3   005-010  23.416    158.227        0   \n",
      "9     1  01001_AM  01001_AM        3   010-050   4.634     47.114        0   \n",
      "10    1  01001_AM  01001_AM        4   002-005  34.118    114.821        0   \n",
      "11    1  01001_AM  01001_AM        4   005-010  26.819    200.161        0   \n",
      "12    1  01001_AM  01001_AM        4   010-050  28.303    403.410        0   \n",
      "13    1  01001_AM  01001_AM        5   002-005  18.709     70.764        0   \n",
      "14    1  01001_AM  01001_AM        5   005-010  40.015    279.144        0   \n",
      "\n",
      "    external  \n",
      "0          0  \n",
      "1          0  \n",
      "2          0  \n",
      "3          0  \n",
      "4          0  \n",
      "5          0  \n",
      "6          0  \n",
      "7          0  \n",
      "8          0  \n",
      "9          0  \n",
      "10         0  \n",
      "11         0  \n",
      "12         0  \n",
      "13         0  \n",
      "14         0  \n"
     ]
    }
   ],
   "source": [
    "print(df.iloc[0:15])"
   ]
  },
  {
   "cell_type": "markdown",
   "metadata": {},
   "source": [
    "Plot time series for each category of 'distancia':"
   ]
  },
  {
   "cell_type": "code",
   "execution_count": 37,
   "metadata": {},
   "outputs": [],
   "source": [
    "df_work = df[~df['day'].isin(weekdays)].groupby(['day', 'periodo', 'distancia']).sum()\n",
    "df_work = df_work.groupby(level=['periodo', 'distancia'] ).mean()"
   ]
  },
  {
   "cell_type": "code",
   "execution_count": 38,
   "metadata": {},
   "outputs": [],
   "source": [
    "# # proof that calculations were right\n",
    "# print(df_work.groupby(level=['periodo'] ).sum()['viajes'].values)\n",
    "# print(avgs_work)"
   ]
  },
  {
   "cell_type": "code",
   "execution_count": 39,
   "metadata": {},
   "outputs": [
    {
     "name": "stdout",
     "output_type": "stream",
     "text": [
      "                         viajes     viajes_km  weekend      external\n",
      "periodo distancia                                                   \n",
      "0       0005-002   1.170493e+06  1.365058e+06      0.0   1907.954545\n",
      "        002-005    7.358067e+05  2.351090e+06      0.0   5492.090909\n",
      "        005-010    4.096664e+05  2.882489e+06      0.0   9132.227273\n",
      "        010-050    2.846550e+05  5.063306e+06      0.0  15295.590909\n",
      "        050-100    1.384953e+04  9.266733e+05      0.0   1517.409091\n"
     ]
    }
   ],
   "source": [
    "print(df_work.head())"
   ]
  },
  {
   "cell_type": "code",
   "execution_count": 40,
   "metadata": {},
   "outputs": [
    {
     "data": {
      "text/plain": [
       "array(['002-005', '005-010', '010-050', '0005-002', '050-100', '100+'],\n",
       "      dtype=object)"
      ]
     },
     "execution_count": 40,
     "metadata": {},
     "output_type": "execute_result"
    }
   ],
   "source": [
    "df['distancia'].unique()"
   ]
  },
  {
   "cell_type": "code",
   "execution_count": 41,
   "metadata": {},
   "outputs": [],
   "source": [
    "# create dictionary of distancia\n",
    "dist_category = df['distancia'].unique()\n",
    "prop_dict = dict.fromkeys(hours, None)\n",
    "for j in hours:\n",
    "    df_hour = df_work.loc[j,:]\n",
    "    prop = []\n",
    "    # for each hour save a list of 6 values, representing the travels in each of the 6 categories\n",
    "    for i in dist_category:\n",
    "        l = df_hour.loc[i]['viajes']\n",
    "        prop.append(l)\n",
    "    prop_dict[j] = prop"
   ]
  },
  {
   "cell_type": "code",
   "execution_count": 42,
   "metadata": {},
   "outputs": [
    {
     "name": "stdout",
     "output_type": "stream",
     "text": [
      "24\n"
     ]
    },
    {
     "data": {
      "image/png": "[encoded data removed]",
      "text/plain": [
       "<Figure size 1008x576 with 1 Axes>"
      ]
     },
     "metadata": {
      "needs_background": "light"
     },
     "output_type": "display_data"
    }
   ],
   "source": [
    "zero = []\n",
    "one = []\n",
    "two = []\n",
    "three = []\n",
    "four = []\n",
    "five = []\n",
    "six = []\n",
    "for d in hours:\n",
    "    zero.append(prop_dict[d][0]*1e-6)\n",
    "    one.append(prop_dict[d][1]*1e-6)\n",
    "    two.append(prop_dict[d][2]*1e-6)\n",
    "    three.append(prop_dict[d][3]*1e-6)\n",
    "    four.append(prop_dict[d][4]*1e-6)\n",
    "    five.append(prop_dict[d][5]*1e-6)\n",
    "print(len(four))\n",
    "\n",
    "b_two = list(np.add(zero, one))\n",
    "b_three = list(np.add(b_two, two))\n",
    "b_four = list(np.add(b_three, three))\n",
    "b_five =  list(np.add(b_four, four))\n",
    "b_six =  list(np.add(b_five, five))\n",
    "\n",
    "\n",
    "c = np.arange(1, 6 + 1)\n",
    "norm = mpl.colors.Normalize(vmin=c.min(), vmax=c.max())\n",
    "cmap = mpl.cm.ScalarMappable(norm=norm, cmap=mpl.cm.Greys)\n",
    "cmap.set_array([])\n",
    "\n",
    "\n",
    "plt.figure(figsize=(14,8))\n",
    "plt.bar(hours, zero, label='0005-002', color = cmap.to_rgba(6))\n",
    "plt.bar(hours, one, bottom=zero, label='002-005', color=cmap.to_rgba(4))\n",
    "plt.bar(hours, two, bottom=b_two, label='005-010', color=cmap.to_rgba(3.5))\n",
    "plt.bar(hours, three, bottom=b_three, label='010-050', color=cmap.to_rgba(3))\n",
    "plt.bar(hours, four, bottom=b_four, label='050-100', color=cmap.to_rgba(2.6))\n",
    "plt.bar(hours, five, bottom=b_five, label='100+', color=cmap.to_rgba(1.6))\n",
    "\n",
    "\n",
    "plt.xlabel('Hour', fontsize=15)\n",
    "plt.ylabel('Number of travels (mlns)', fontsize=15)\n",
    "plt.legend()\n",
    "plt.title('Workday', fontsize=20)\n",
    "plt.xticks(hours)\n",
    "plt.savefig('figures/number_travels_hist.png')\n",
    "plt.show()"
   ]
  },
  {
   "cell_type": "code",
   "execution_count": 43,
   "metadata": {},
   "outputs": [
    {
     "name": "stdout",
     "output_type": "stream",
     "text": [
      "24\n"
     ]
    },
    {
     "data": {
      "image/png": "[encoded data removed]",
      "text/plain": [
       "<Figure size 1008x576 with 1 Axes>"
      ]
     },
     "metadata": {
      "needs_background": "light"
     },
     "output_type": "display_data"
    }
   ],
   "source": [
    "# same for weekends:\n",
    "df_weekend = df[df['day'].isin(weekdays)].groupby(['day', 'periodo', 'distancia']).sum()\n",
    "df_weekend  = df_weekend .groupby(level=['periodo', 'distancia'] ).mean()\n",
    "# create dictionary of distancia\n",
    "prop_dict = dict.fromkeys(hours, None)\n",
    "for j in hours:\n",
    "    df_hour = df_weekend.loc[j,:]\n",
    "    prop = []\n",
    "    # for each hour save a list of 6 values, representing the travels in each of the 6 categories\n",
    "    for i in dist_category:\n",
    "        l = df_hour.loc[i]['viajes']\n",
    "        prop.append(l)\n",
    "    prop_dict[j] = prop\n",
    "zero = []\n",
    "one = []\n",
    "two = []\n",
    "three = []\n",
    "four = []\n",
    "five = []\n",
    "six = []\n",
    "for d in hours:\n",
    "    zero.append(prop_dict[d][0]*1e-6)\n",
    "    one.append(prop_dict[d][1]*1e-6)\n",
    "    two.append(prop_dict[d][2]*1e-6)\n",
    "    three.append(prop_dict[d][3]*1e-6)\n",
    "    four.append(prop_dict[d][4]*1e-6)\n",
    "    five.append(prop_dict[d][5]*1e-6)\n",
    "print(len(four))\n",
    "\n",
    "b_two = list(np.add(zero, one))\n",
    "b_three = list(np.add(b_two, two))\n",
    "b_four = list(np.add(b_three, three))\n",
    "b_five =  list(np.add(b_four, four))\n",
    "b_six =  list(np.add(b_five, five))\n",
    "\n",
    "\n",
    "c = np.arange(1, 6 + 1)\n",
    "norm = mpl.colors.Normalize(vmin=c.min(), vmax=c.max())\n",
    "cmap = mpl.cm.ScalarMappable(norm=norm, cmap=mpl.cm.Greens)\n",
    "cmap.set_array([])\n",
    "\n",
    "\n",
    "plt.figure(figsize=(14,8))\n",
    "plt.bar(hours, zero, label='0005-002', color = cmap.to_rgba(6))\n",
    "plt.bar(hours, one, bottom=zero, label='002-005', color=cmap.to_rgba(4))\n",
    "plt.bar(hours, two, bottom=b_two, label='005-010', color=cmap.to_rgba(3.5))\n",
    "plt.bar(hours, three, bottom=b_three, label='010-050', color=cmap.to_rgba(3))\n",
    "plt.bar(hours, four, bottom=b_four, label='050-100', color=cmap.to_rgba(2.6))\n",
    "plt.bar(hours, five, bottom=b_five, label='100+', color=cmap.to_rgba(1.6))\n",
    "\n",
    "\n",
    "plt.xlabel('Hour', fontsize=15)\n",
    "plt.ylabel('Number of travels (mlns)', fontsize=15)\n",
    "plt.legend()\n",
    "plt.title('Weekend', fontsize=20)\n",
    "plt.xticks(hours)\n",
    "plt.ylim(top=7.5)\n",
    "plt.savefig('figures/number_travels_hist.png')\n",
    "plt.show()"
   ]
  },
  {
   "cell_type": "markdown",
   "metadata": {},
   "source": [
    "Now do the averages by hour and cosider daily time series:"
   ]
  },
  {
   "cell_type": "code",
   "execution_count": 44,
   "metadata": {},
   "outputs": [
    {
     "data": {
      "text/html": [
       "<div>\n",
       "<style scoped>\n",
       "    .dataframe tbody tr th:only-of-type {\n",
       "        vertical-align: middle;\n",
       "    }\n",
       "\n",
       "    .dataframe tbody tr th {\n",
       "        vertical-align: top;\n",
       "    }\n",
       "\n",
       "    .dataframe thead th {\n",
       "        text-align: right;\n",
       "    }\n",
       "</style>\n",
       "<table border=\"1\" class=\"dataframe\">\n",
       "  <thead>\n",
       "    <tr style=\"text-align: right;\">\n",
       "      <th></th>\n",
       "      <th></th>\n",
       "      <th>periodo</th>\n",
       "      <th>viajes</th>\n",
       "      <th>viajes_km</th>\n",
       "      <th>weekend</th>\n",
       "      <th>external</th>\n",
       "    </tr>\n",
       "    <tr>\n",
       "      <th>day</th>\n",
       "      <th>distancia</th>\n",
       "      <th></th>\n",
       "      <th></th>\n",
       "      <th></th>\n",
       "      <th></th>\n",
       "      <th></th>\n",
       "    </tr>\n",
       "  </thead>\n",
       "  <tbody>\n",
       "    <tr>\n",
       "      <th rowspan=\"5\" valign=\"top\">1</th>\n",
       "      <th>0005-002</th>\n",
       "      <td>1019148</td>\n",
       "      <td>3.836383e+07</td>\n",
       "      <td>4.551382e+07</td>\n",
       "      <td>0</td>\n",
       "      <td>47982</td>\n",
       "    </tr>\n",
       "    <tr>\n",
       "      <th>002-005</th>\n",
       "      <td>2241843</td>\n",
       "      <td>2.872986e+07</td>\n",
       "      <td>9.306125e+07</td>\n",
       "      <td>0</td>\n",
       "      <td>142897</td>\n",
       "    </tr>\n",
       "    <tr>\n",
       "      <th>005-010</th>\n",
       "      <td>3663136</td>\n",
       "      <td>1.933333e+07</td>\n",
       "      <td>1.376809e+08</td>\n",
       "      <td>0</td>\n",
       "      <td>264085</td>\n",
       "    </tr>\n",
       "    <tr>\n",
       "      <th>010-050</th>\n",
       "      <td>8066432</td>\n",
       "      <td>1.890788e+07</td>\n",
       "      <td>3.635191e+08</td>\n",
       "      <td>0</td>\n",
       "      <td>633179</td>\n",
       "    </tr>\n",
       "    <tr>\n",
       "      <th>050-100</th>\n",
       "      <td>1397837</td>\n",
       "      <td>1.334207e+06</td>\n",
       "      <td>8.926232e+07</td>\n",
       "      <td>0</td>\n",
       "      <td>117544</td>\n",
       "    </tr>\n",
       "  </tbody>\n",
       "</table>\n",
       "</div>"
      ],
      "text/plain": [
       "               periodo        viajes     viajes_km  weekend  external\n",
       "day distancia                                                        \n",
       "1   0005-002   1019148  3.836383e+07  4.551382e+07        0     47982\n",
       "    002-005    2241843  2.872986e+07  9.306125e+07        0    142897\n",
       "    005-010    3663136  1.933333e+07  1.376809e+08        0    264085\n",
       "    010-050    8066432  1.890788e+07  3.635191e+08        0    633179\n",
       "    050-100    1397837  1.334207e+06  8.926232e+07        0    117544"
      ]
     },
     "execution_count": 44,
     "metadata": {},
     "output_type": "execute_result"
    }
   ],
   "source": [
    "df_series = df.groupby(['day', 'distancia']).sum()\n",
    "df_series.head()"
   ]
  },
  {
   "cell_type": "code",
   "execution_count": 45,
   "metadata": {},
   "outputs": [
    {
     "name": "stdout",
     "output_type": "stream",
     "text": [
      "30\n"
     ]
    },
    {
     "data": {
      "image/png": "[encoded data removed]",
      "text/plain": [
       "<Figure size 1008x576 with 1 Axes>"
      ]
     },
     "metadata": {
      "needs_background": "light"
     },
     "output_type": "display_data"
    }
   ],
   "source": [
    "# create dictionary of distancia\n",
    "days = df['day'].unique()\n",
    "prop_dict = dict.fromkeys(days, None)\n",
    "for j in days:\n",
    "    df_day = df_series.loc[j,:]\n",
    "    prop = []\n",
    "    # for each hour save a list of 6 values, representing the travels in each of the 6 categories\n",
    "    for i in dist_category:\n",
    "        l = df_day.loc[i]['viajes']\n",
    "        prop.append(l)\n",
    "    prop_dict[j] = prop\n",
    "zero = []\n",
    "one = []\n",
    "two = []\n",
    "three = []\n",
    "four = []\n",
    "five = []\n",
    "six = []\n",
    "for d in days:\n",
    "    zero.append(prop_dict[d][0]*1e-6)\n",
    "    one.append(prop_dict[d][1]*1e-6)\n",
    "    two.append(prop_dict[d][2]*1e-6)\n",
    "    three.append(prop_dict[d][3]*1e-6)\n",
    "    four.append(prop_dict[d][4]*1e-6)\n",
    "    five.append(prop_dict[d][5]*1e-6)\n",
    "print(len(four))\n",
    "\n",
    "b_two = list(np.add(zero, one))\n",
    "b_three = list(np.add(b_two, two))\n",
    "b_four = list(np.add(b_three, three))\n",
    "b_five =  list(np.add(b_four, four))\n",
    "b_six =  list(np.add(b_five, five))\n",
    "\n",
    "\n",
    "c = np.arange(1, 6 + 1)\n",
    "norm = mpl.colors.Normalize(vmin=c.min(), vmax=c.max())\n",
    "cmap = mpl.cm.ScalarMappable(norm=norm, cmap=mpl.cm.Blues)\n",
    "cmap.set_array([])\n",
    "\n",
    "\n",
    "\n",
    "fig, ax = plt.subplots(figsize=(14,8))\n",
    "ax.bar(days, zero, label='0005-002', color = cmap.to_rgba(6))\n",
    "ax.bar(days, one, bottom=zero, label='002-005', color=cmap.to_rgba(4))\n",
    "ax.bar(days, two, bottom=b_two, label='005-010', color=cmap.to_rgba(3.5))\n",
    "ax.bar(days, three, bottom=b_three, label='010-050', color=cmap.to_rgba(3))\n",
    "ax.bar(days, four, bottom=b_four, label='050-100', color=cmap.to_rgba(2.6))\n",
    "ax.bar(days, five, bottom=b_five, label='100+', color=cmap.to_rgba(1.6))\n",
    "\n",
    "\n",
    "ax.set_xlabel('Day', fontsize=15)\n",
    "ax.set_ylabel('Number of travels (mlns)', fontsize=15)\n",
    "plt.legend(loc='upper left')\n",
    "ax.set_title('Number of travels by km range', fontsize=20)\n",
    "ax.set_xticks(days)\n",
    "for i in weekdays:\n",
    "    ax.get_xticklabels()[i-1].set_color(\"red\")\n",
    "plt.show()"
   ]
  },
  {
   "cell_type": "code",
   "execution_count": 46,
   "metadata": {},
   "outputs": [
    {
     "data": {
      "text/plain": [
       "<Figure size 864x576 with 0 Axes>"
      ]
     },
     "metadata": {},
     "output_type": "display_data"
    },
    {
     "data": {
      "image/png": "[encoded data removed]",
      "text/plain": [
       "<Figure size 432x288 with 3 Axes>"
      ]
     },
     "metadata": {
      "needs_background": "light"
     },
     "output_type": "display_data"
    }
   ],
   "source": [
    "result = seasonal_decompose(four, model='additive', period=7)\n",
    "\n",
    "plt.figure(figsize=(12,8))\n",
    "fig, axs = plt.subplots(3, sharex=True, constrained_layout = True)\n",
    "axs[0].plot(four)\n",
    "axs[0].set_title('Observed', fontsize=15)\n",
    "axs[1].plot(result.trend, color='tab:orange')\n",
    "axs[1].set_title('Trend', fontsize=15)\n",
    "axs[2].plot(result.seasonal)\n",
    "axs[2].set_title('Seasonal', fontsize=15)\n",
    "plt.show()"
   ]
  },
  {
   "cell_type": "markdown",
   "metadata": {},
   "source": [
    "## Maestra2 (per group of people)"
   ]
  },
  {
   "cell_type": "code",
   "execution_count": 47,
   "metadata": {},
   "outputs": [],
   "source": [
    "# # unzip\n",
    "# path_mes = 'maestra2/202006_maestra2_mitma_municipio.tar'\n",
    "# # df_mes = pd.read_csv(path_mes, compression='infer', header=0, sep='|', quotechar='\"', error_bad_lines=False)\n",
    "# import tarfile\n",
    "\n",
    "# with tarfile.open(path_mes, \"r\") as tf:\n",
    "#     print(\"Opened tarfile\")\n",
    "#     tf.extractall(path=\"./extraction_dir\")\n",
    "#     print(\"All files extracted\")\n",
    "#     # df_mes = pd.read_csv(tf, compression='infer', header=0, sep='|', quotechar='\"', error_bad_lines=False)"
   ]
  },
  {
   "cell_type": "markdown",
   "metadata": {},
   "source": [
    "Load and merge the daily data altogether:"
   ]
  },
  {
   "cell_type": "code",
   "execution_count": 12,
   "metadata": {},
   "outputs": [
    {
     "name": "stderr",
     "output_type": "stream",
     "text": [
      "/var/folders/d3/rdvhjvc52n99n0pgdzgxgtph0000gq/T/ipykernel_1643/1291155889.py:5: FutureWarning: The error_bad_lines argument has been deprecated and will be removed in a future version. Use on_bad_lines in the future.\n",
      "\n",
      "\n",
      "  df1 = pd.read_csv(path, compression='gzip', header=0, sep='|', quotechar='\"', error_bad_lines=False)\n",
      "/var/folders/d3/rdvhjvc52n99n0pgdzgxgtph0000gq/T/ipykernel_1643/1291155889.py:5: FutureWarning: The error_bad_lines argument has been deprecated and will be removed in a future version. Use on_bad_lines in the future.\n",
      "\n",
      "\n",
      "  df1 = pd.read_csv(path, compression='gzip', header=0, sep='|', quotechar='\"', error_bad_lines=False)\n",
      "/var/folders/d3/rdvhjvc52n99n0pgdzgxgtph0000gq/T/ipykernel_1643/1291155889.py:5: FutureWarning: The error_bad_lines argument has been deprecated and will be removed in a future version. Use on_bad_lines in the future.\n",
      "\n",
      "\n",
      "  df1 = pd.read_csv(path, compression='gzip', header=0, sep='|', quotechar='\"', error_bad_lines=False)\n",
      "/var/folders/d3/rdvhjvc52n99n0pgdzgxgtph0000gq/T/ipykernel_1643/1291155889.py:5: FutureWarning: The error_bad_lines argument has been deprecated and will be removed in a future version. Use on_bad_lines in the future.\n",
      "\n",
      "\n",
      "  df1 = pd.read_csv(path, compression='gzip', header=0, sep='|', quotechar='\"', error_bad_lines=False)\n",
      "/var/folders/d3/rdvhjvc52n99n0pgdzgxgtph0000gq/T/ipykernel_1643/1291155889.py:5: FutureWarning: The error_bad_lines argument has been deprecated and will be removed in a future version. Use on_bad_lines in the future.\n",
      "\n",
      "\n",
      "  df1 = pd.read_csv(path, compression='gzip', header=0, sep='|', quotechar='\"', error_bad_lines=False)\n",
      "/var/folders/d3/rdvhjvc52n99n0pgdzgxgtph0000gq/T/ipykernel_1643/1291155889.py:5: FutureWarning: The error_bad_lines argument has been deprecated and will be removed in a future version. Use on_bad_lines in the future.\n",
      "\n",
      "\n",
      "  df1 = pd.read_csv(path, compression='gzip', header=0, sep='|', quotechar='\"', error_bad_lines=False)\n",
      "/var/folders/d3/rdvhjvc52n99n0pgdzgxgtph0000gq/T/ipykernel_1643/1291155889.py:5: FutureWarning: The error_bad_lines argument has been deprecated and will be removed in a future version. Use on_bad_lines in the future.\n",
      "\n",
      "\n",
      "  df1 = pd.read_csv(path, compression='gzip', header=0, sep='|', quotechar='\"', error_bad_lines=False)\n"
     ]
    },
    {
     "name": "stderr",
     "output_type": "stream",
     "text": [
      "/var/folders/d3/rdvhjvc52n99n0pgdzgxgtph0000gq/T/ipykernel_1643/1291155889.py:5: FutureWarning: The error_bad_lines argument has been deprecated and will be removed in a future version. Use on_bad_lines in the future.\n",
      "\n",
      "\n",
      "  df1 = pd.read_csv(path, compression='gzip', header=0, sep='|', quotechar='\"', error_bad_lines=False)\n",
      "/var/folders/d3/rdvhjvc52n99n0pgdzgxgtph0000gq/T/ipykernel_1643/1291155889.py:5: FutureWarning: The error_bad_lines argument has been deprecated and will be removed in a future version. Use on_bad_lines in the future.\n",
      "\n",
      "\n",
      "  df1 = pd.read_csv(path, compression='gzip', header=0, sep='|', quotechar='\"', error_bad_lines=False)\n"
     ]
    },
    {
     "name": "stdout",
     "output_type": "stream",
     "text": [
      "<class 'pandas.core.frame.DataFrame'>\n",
      "RangeIndex: 78832 entries, 0 to 78831\n",
      "Data columns (total 4 columns):\n",
      " #   Column         Non-Null Count  Dtype  \n",
      "---  ------         --------------  -----  \n",
      " 0   day            78832 non-null  int64  \n",
      " 1   distrito       78832 non-null  object \n",
      " 2   numero_viajes  78832 non-null  object \n",
      " 3   personas       78832 non-null  float64\n",
      "dtypes: float64(1), int64(1), object(2)\n",
      "memory usage: 2.4+ MB\n"
     ]
    }
   ],
   "source": [
    "df2 = pd.DataFrame([])\n",
    "# days from 1 to 10\n",
    "for i in range(1,10):\n",
    "    path = f'maestra2/municipios/2020060{i}_maestra_2_mitma_municipio.txt.gz'\n",
    "    df1 = pd.read_csv(path, compression='gzip', header=0, sep='|', quotechar='\"', error_bad_lines=False)\n",
    "    df1 = df1.rename(columns={'fecha': 'day'})\n",
    "    df1['day'] = i\n",
    "    df2 = pd.concat([df2, df1], ignore_index=True)\n",
    "df2.info()"
   ]
  },
  {
   "cell_type": "code",
   "execution_count": 13,
   "metadata": {},
   "outputs": [
    {
     "name": "stderr",
     "output_type": "stream",
     "text": [
      "/var/folders/d3/rdvhjvc52n99n0pgdzgxgtph0000gq/T/ipykernel_1643/928495675.py:4: FutureWarning: The error_bad_lines argument has been deprecated and will be removed in a future version. Use on_bad_lines in the future.\n",
      "\n",
      "\n",
      "  df1 = pd.read_csv(path, compression='gzip', header=0, sep='|', quotechar='\"', error_bad_lines=False)\n",
      "/var/folders/d3/rdvhjvc52n99n0pgdzgxgtph0000gq/T/ipykernel_1643/928495675.py:4: FutureWarning: The error_bad_lines argument has been deprecated and will be removed in a future version. Use on_bad_lines in the future.\n",
      "\n",
      "\n",
      "  df1 = pd.read_csv(path, compression='gzip', header=0, sep='|', quotechar='\"', error_bad_lines=False)\n",
      "/var/folders/d3/rdvhjvc52n99n0pgdzgxgtph0000gq/T/ipykernel_1643/928495675.py:4: FutureWarning: The error_bad_lines argument has been deprecated and will be removed in a future version. Use on_bad_lines in the future.\n",
      "\n",
      "\n",
      "  df1 = pd.read_csv(path, compression='gzip', header=0, sep='|', quotechar='\"', error_bad_lines=False)\n",
      "/var/folders/d3/rdvhjvc52n99n0pgdzgxgtph0000gq/T/ipykernel_1643/928495675.py:4: FutureWarning: The error_bad_lines argument has been deprecated and will be removed in a future version. Use on_bad_lines in the future.\n",
      "\n",
      "\n",
      "  df1 = pd.read_csv(path, compression='gzip', header=0, sep='|', quotechar='\"', error_bad_lines=False)\n",
      "/var/folders/d3/rdvhjvc52n99n0pgdzgxgtph0000gq/T/ipykernel_1643/928495675.py:4: FutureWarning: The error_bad_lines argument has been deprecated and will be removed in a future version. Use on_bad_lines in the future.\n",
      "\n",
      "\n",
      "  df1 = pd.read_csv(path, compression='gzip', header=0, sep='|', quotechar='\"', error_bad_lines=False)\n",
      "/var/folders/d3/rdvhjvc52n99n0pgdzgxgtph0000gq/T/ipykernel_1643/928495675.py:4: FutureWarning: The error_bad_lines argument has been deprecated and will be removed in a future version. Use on_bad_lines in the future.\n",
      "\n",
      "\n",
      "  df1 = pd.read_csv(path, compression='gzip', header=0, sep='|', quotechar='\"', error_bad_lines=False)\n",
      "/var/folders/d3/rdvhjvc52n99n0pgdzgxgtph0000gq/T/ipykernel_1643/928495675.py:4: FutureWarning: The error_bad_lines argument has been deprecated and will be removed in a future version. Use on_bad_lines in the future.\n",
      "\n",
      "\n",
      "  df1 = pd.read_csv(path, compression='gzip', header=0, sep='|', quotechar='\"', error_bad_lines=False)\n",
      "/var/folders/d3/rdvhjvc52n99n0pgdzgxgtph0000gq/T/ipykernel_1643/928495675.py:4: FutureWarning: The error_bad_lines argument has been deprecated and will be removed in a future version. Use on_bad_lines in the future.\n",
      "\n",
      "\n",
      "  df1 = pd.read_csv(path, compression='gzip', header=0, sep='|', quotechar='\"', error_bad_lines=False)\n",
      "/var/folders/d3/rdvhjvc52n99n0pgdzgxgtph0000gq/T/ipykernel_1643/928495675.py:4: FutureWarning: The error_bad_lines argument has been deprecated and will be removed in a future version. Use on_bad_lines in the future.\n",
      "\n",
      "\n",
      "  df1 = pd.read_csv(path, compression='gzip', header=0, sep='|', quotechar='\"', error_bad_lines=False)\n",
      "/var/folders/d3/rdvhjvc52n99n0pgdzgxgtph0000gq/T/ipykernel_1643/928495675.py:4: FutureWarning: The error_bad_lines argument has been deprecated and will be removed in a future version. Use on_bad_lines in the future.\n",
      "\n",
      "\n",
      "  df1 = pd.read_csv(path, compression='gzip', header=0, sep='|', quotechar='\"', error_bad_lines=False)\n",
      "/var/folders/d3/rdvhjvc52n99n0pgdzgxgtph0000gq/T/ipykernel_1643/928495675.py:4: FutureWarning: The error_bad_lines argument has been deprecated and will be removed in a future version. Use on_bad_lines in the future.\n",
      "\n",
      "\n",
      "  df1 = pd.read_csv(path, compression='gzip', header=0, sep='|', quotechar='\"', error_bad_lines=False)\n",
      "/var/folders/d3/rdvhjvc52n99n0pgdzgxgtph0000gq/T/ipykernel_1643/928495675.py:4: FutureWarning: The error_bad_lines argument has been deprecated and will be removed in a future version. Use on_bad_lines in the future.\n",
      "\n",
      "\n",
      "  df1 = pd.read_csv(path, compression='gzip', header=0, sep='|', quotechar='\"', error_bad_lines=False)\n",
      "/var/folders/d3/rdvhjvc52n99n0pgdzgxgtph0000gq/T/ipykernel_1643/928495675.py:4: FutureWarning: The error_bad_lines argument has been deprecated and will be removed in a future version. Use on_bad_lines in the future.\n",
      "\n",
      "\n",
      "  df1 = pd.read_csv(path, compression='gzip', header=0, sep='|', quotechar='\"', error_bad_lines=False)\n",
      "/var/folders/d3/rdvhjvc52n99n0pgdzgxgtph0000gq/T/ipykernel_1643/928495675.py:4: FutureWarning: The error_bad_lines argument has been deprecated and will be removed in a future version. Use on_bad_lines in the future.\n",
      "\n",
      "\n",
      "  df1 = pd.read_csv(path, compression='gzip', header=0, sep='|', quotechar='\"', error_bad_lines=False)\n",
      "/var/folders/d3/rdvhjvc52n99n0pgdzgxgtph0000gq/T/ipykernel_1643/928495675.py:4: FutureWarning: The error_bad_lines argument has been deprecated and will be removed in a future version. Use on_bad_lines in the future.\n",
      "\n",
      "\n",
      "  df1 = pd.read_csv(path, compression='gzip', header=0, sep='|', quotechar='\"', error_bad_lines=False)\n",
      "/var/folders/d3/rdvhjvc52n99n0pgdzgxgtph0000gq/T/ipykernel_1643/928495675.py:4: FutureWarning: The error_bad_lines argument has been deprecated and will be removed in a future version. Use on_bad_lines in the future.\n",
      "\n",
      "\n",
      "  df1 = pd.read_csv(path, compression='gzip', header=0, sep='|', quotechar='\"', error_bad_lines=False)\n",
      "/var/folders/d3/rdvhjvc52n99n0pgdzgxgtph0000gq/T/ipykernel_1643/928495675.py:4: FutureWarning: The error_bad_lines argument has been deprecated and will be removed in a future version. Use on_bad_lines in the future.\n",
      "\n",
      "\n",
      "  df1 = pd.read_csv(path, compression='gzip', header=0, sep='|', quotechar='\"', error_bad_lines=False)\n",
      "/var/folders/d3/rdvhjvc52n99n0pgdzgxgtph0000gq/T/ipykernel_1643/928495675.py:4: FutureWarning: The error_bad_lines argument has been deprecated and will be removed in a future version. Use on_bad_lines in the future.\n",
      "\n",
      "\n",
      "  df1 = pd.read_csv(path, compression='gzip', header=0, sep='|', quotechar='\"', error_bad_lines=False)\n",
      "/var/folders/d3/rdvhjvc52n99n0pgdzgxgtph0000gq/T/ipykernel_1643/928495675.py:4: FutureWarning: The error_bad_lines argument has been deprecated and will be removed in a future version. Use on_bad_lines in the future.\n",
      "\n",
      "\n",
      "  df1 = pd.read_csv(path, compression='gzip', header=0, sep='|', quotechar='\"', error_bad_lines=False)\n",
      "/var/folders/d3/rdvhjvc52n99n0pgdzgxgtph0000gq/T/ipykernel_1643/928495675.py:4: FutureWarning: The error_bad_lines argument has been deprecated and will be removed in a future version. Use on_bad_lines in the future.\n",
      "\n",
      "\n",
      "  df1 = pd.read_csv(path, compression='gzip', header=0, sep='|', quotechar='\"', error_bad_lines=False)\n",
      "/var/folders/d3/rdvhjvc52n99n0pgdzgxgtph0000gq/T/ipykernel_1643/928495675.py:4: FutureWarning: The error_bad_lines argument has been deprecated and will be removed in a future version. Use on_bad_lines in the future.\n",
      "\n",
      "\n",
      "  df1 = pd.read_csv(path, compression='gzip', header=0, sep='|', quotechar='\"', error_bad_lines=False)\n"
     ]
    },
    {
     "name": "stdout",
     "output_type": "stream",
     "text": [
      "<class 'pandas.core.frame.DataFrame'>\n",
      "RangeIndex: 262804 entries, 0 to 262803\n",
      "Data columns (total 4 columns):\n",
      " #   Column         Non-Null Count   Dtype  \n",
      "---  ------         --------------   -----  \n",
      " 0   day            262804 non-null  int64  \n",
      " 1   distrito       262804 non-null  object \n",
      " 2   numero_viajes  262804 non-null  object \n",
      " 3   personas       262804 non-null  float64\n",
      "dtypes: float64(1), int64(1), object(2)\n",
      "memory usage: 8.0+ MB\n"
     ]
    }
   ],
   "source": [
    "# days from 10 to 30\n",
    "for i in range(10,31):\n",
    "    path = f'maestra2/municipios/202006{i}_maestra_2_mitma_municipio.txt.gz'\n",
    "    df1 = pd.read_csv(path, compression='gzip', header=0, sep='|', quotechar='\"', error_bad_lines=False)\n",
    "    df1 = df1.rename(columns={'fecha': 'day'})\n",
    "    df1['day'] = i\n",
    "    df2 = pd.concat([df2, df1], ignore_index=True)\n",
    "df2.info()"
   ]
  },
  {
   "cell_type": "markdown",
   "metadata": {},
   "source": [
    "Add boolean variable weekend and change distritos into municipios:"
   ]
  },
  {
   "cell_type": "code",
   "execution_count": 14,
   "metadata": {},
   "outputs": [],
   "source": [
    "df2['weekend'] = [0 for _ in range(len(df2))]\n",
    "weekdays = [6, 13, 20, 27, 7, 14, 21, 28]\n",
    "cond = df2['day'].isin(weekdays)\n",
    "df2.loc[cond, 'weekend'] = 1"
   ]
  },
  {
   "cell_type": "code",
   "execution_count": 15,
   "metadata": {},
   "outputs": [],
   "source": [
    "df2 = df2.rename({'distrito': 'municipio'}, axis=1)"
   ]
  },
  {
   "cell_type": "code",
   "execution_count": 16,
   "metadata": {},
   "outputs": [
    {
     "name": "stdout",
     "output_type": "stream",
     "text": [
      "<class 'pandas.core.frame.DataFrame'>\n",
      "RangeIndex: 262804 entries, 0 to 262803\n",
      "Data columns (total 5 columns):\n",
      " #   Column         Non-Null Count   Dtype  \n",
      "---  ------         --------------   -----  \n",
      " 0   day            262804 non-null  int64  \n",
      " 1   municipio      262804 non-null  object \n",
      " 2   numero_viajes  262804 non-null  object \n",
      " 3   personas       262804 non-null  float64\n",
      " 4   weekend        262804 non-null  int64  \n",
      "dtypes: float64(1), int64(2), object(2)\n",
      "memory usage: 10.0+ MB\n",
      "None\n",
      "   day municipio numero_viajes  personas  weekend\n",
      "0    1  01001_AM             0  3471.255        0\n",
      "1    1  01001_AM             1   400.354        0\n",
      "2    1  01001_AM             2  2071.065        0\n",
      "3    1  01001_AM            2+  3066.499        0\n",
      "4    1     01002             0  3989.251        0\n"
     ]
    }
   ],
   "source": [
    "print(df2.info()) # no missing values\n",
    "#check for duplicates\n",
    "df2.duplicated().sum()\n",
    "print(df2.head())"
   ]
  },
  {
   "cell_type": "markdown",
   "metadata": {},
   "source": [
    "How many people are considered? 46,450,000"
   ]
  },
  {
   "cell_type": "code",
   "execution_count": 53,
   "metadata": {},
   "outputs": [
    {
     "data": {
      "text/plain": [
       "46455277.93399999"
      ]
     },
     "execution_count": 53,
     "metadata": {},
     "output_type": "execute_result"
    }
   ],
   "source": [
    "cond = df2['day']==12\n",
    "df2.loc[cond, 'personas'].sum()"
   ]
  },
  {
   "cell_type": "markdown",
   "metadata": {},
   "source": [
    "Proportion of people who traveled 0,1,2,2+ times during each day:"
   ]
  },
  {
   "cell_type": "code",
   "execution_count": 99,
   "metadata": {},
   "outputs": [],
   "source": [
    "# create dictionary of proportions\n",
    "n_viajes = df2['numero_viajes'].unique()\n",
    "days = [i for i in range(1,31)]\n",
    "prop_dict = dict.fromkeys(days, None)\n",
    "for j in days:\n",
    "    df_day = df2.loc[df2['day']==j]\n",
    "    prop = []\n",
    "    for i in n_viajes:\n",
    "        cond = df_day['numero_viajes']==i\n",
    "        prop.append(df_day.loc[cond, 'personas'].sum())\n",
    "    prop_dict[j] = prop\n"
   ]
  },
  {
   "cell_type": "code",
   "execution_count": 101,
   "metadata": {},
   "outputs": [
    {
     "data": {
      "image/png": "[encoded data removed]",
      "text/plain": [
       "<Figure size 1008x576 with 1 Axes>"
      ]
     },
     "metadata": {
      "needs_background": "light"
     },
     "output_type": "display_data"
    }
   ],
   "source": [
    "zero = []\n",
    "one = []\n",
    "two = []\n",
    "two_plus = []\n",
    "for d in days:\n",
    "    zero.append(prop_dict[d][0]*1e-6)\n",
    "    one.append(prop_dict[d][1]*1e-6)\n",
    "    two.append(prop_dict[d][2]*1e-6)\n",
    "    two_plus.append(prop_dict[d][3]*1e-6)\n",
    "b_two = list(np.add(zero, one))\n",
    "b_two_plus = list(np.add(b_two, two))\n",
    "\n",
    "c = np.arange(1, 4 + 1)\n",
    "norm = mpl.colors.Normalize(vmin=c.min(), vmax=c.max())\n",
    "cmap = mpl.cm.ScalarMappable(norm=norm, cmap=mpl.cm.Blues)\n",
    "cmap.set_array([])\n",
    "\n",
    "\n",
    "\n",
    "fig, ax = plt.subplots(figsize=(14,8))\n",
    "ax.bar(days, zero, label='0', color = cmap.to_rgba(6))\n",
    "ax.bar(days, one, bottom=zero, label='1', color=cmap.to_rgba(3.2))\n",
    "ax.bar(days, two, bottom=b_two, label='2', color=cmap.to_rgba(2.4))\n",
    "ax.bar(days, two_plus, bottom=b_two_plus, label='2+', color=cmap.to_rgba(1.6))\n",
    "\n",
    "\n",
    "ax.set_xlabel('Day', fontsize=15)\n",
    "ax.set_ylabel('People (mlns)', fontsize=15)\n",
    "plt.legend()\n",
    "ax.set_title('Daily number of people travelling', fontsize=20)\n",
    "ax.set_xticks(days)\n",
    "for i in weekdays:\n",
    "    ax.get_xticklabels()[i-1].set_color(\"red\")\n",
    "plt.show()"
   ]
  },
  {
   "cell_type": "code",
   "execution_count": 56,
   "metadata": {},
   "outputs": [
    {
     "data": {
      "text/plain": [
       "<Figure size 864x576 with 0 Axes>"
      ]
     },
     "metadata": {},
     "output_type": "display_data"
    },
    {
     "data": {
      "image/png": "[encoded data removed]",
      "text/plain": [
       "<Figure size 432x288 with 3 Axes>"
      ]
     },
     "metadata": {
      "needs_background": "light"
     },
     "output_type": "display_data"
    }
   ],
   "source": [
    "result = seasonal_decompose(zero, model='additive', period=7)\n",
    "\n",
    "plt.figure(figsize=(12,8))\n",
    "fig, axs = plt.subplots(3, sharex=True, constrained_layout = True)\n",
    "axs[0].plot(zero)\n",
    "axs[0].set_title('Observed', fontsize=15)\n",
    "axs[1].plot(result.trend, color='tab:orange')\n",
    "axs[1].set_title('Trend', fontsize=15)\n",
    "axs[2].plot(result.seasonal)\n",
    "axs[2].set_title('Seasonal', fontsize=15)\n",
    "plt.show()"
   ]
  },
  {
   "cell_type": "markdown",
   "metadata": {},
   "source": [
    "Boxplot of number of travels (ignoring the municipio):"
   ]
  },
  {
   "cell_type": "code",
   "execution_count": 57,
   "metadata": {},
   "outputs": [
    {
     "data": {
      "image/png": "[encoded data removed]",
      "text/plain": [
       "<Figure size 864x576 with 1 Axes>"
      ]
     },
     "metadata": {
      "needs_background": "light"
     },
     "output_type": "display_data"
    }
   ],
   "source": [
    "data = []\n",
    "for d in days:\n",
    "    x = prop_dict[d]\n",
    "    data.append(x)\n",
    "data = pd.DataFrame(data, columns = ['0', '1', '2', '2+'])\n",
    "plt.figure(figsize=(12,8))\n",
    "sns.boxplot(data)\n",
    "plt.title('Boxplot number of travelling people per day (ignoring municipality)')\n",
    "plt.show()"
   ]
  },
  {
   "cell_type": "markdown",
   "metadata": {},
   "source": [
    "Differentiate between weekend or not:"
   ]
  },
  {
   "cell_type": "code",
   "execution_count": 58,
   "metadata": {},
   "outputs": [
    {
     "data": {
      "image/png": "[encoded data removed]",
      "text/plain": [
       "<Figure size 864x576 with 1 Axes>"
      ]
     },
     "metadata": {
      "needs_background": "light"
     },
     "output_type": "display_data"
    }
   ],
   "source": [
    "data_weekend = []\n",
    "for d in days:\n",
    "    if d in weekdays:\n",
    "        x = [i*1e-6 for i in prop_dict[d]]\n",
    "        data_weekend.append(x)\n",
    "data_weekend = pd.DataFrame(data_weekend, columns = ['0', '1', '2', '2+'])\n",
    "plt.figure(figsize=(12,8))\n",
    "sns.boxplot(data_weekend)\n",
    "plt.title('Weekends', fontsize=20)\n",
    "plt.xlabel('Number of travels', fontsize=15)\n",
    "plt.ylabel('People (mlns)', fontsize=15)\n",
    "plt.show()"
   ]
  },
  {
   "cell_type": "code",
   "execution_count": 59,
   "metadata": {},
   "outputs": [
    {
     "data": {
      "image/png": "[encoded data removed]",
      "text/plain": [
       "<Figure size 864x576 with 1 Axes>"
      ]
     },
     "metadata": {
      "needs_background": "light"
     },
     "output_type": "display_data"
    }
   ],
   "source": [
    "data = []\n",
    "for d in days:\n",
    "    if d not in weekdays:\n",
    "        x = [i*1e-6 for i in prop_dict[d]]\n",
    "        data.append(x)\n",
    "data = pd.DataFrame(data, columns = ['0', '1', '2', '2+'])\n",
    "plt.figure(figsize=(12,8))\n",
    "sns.boxplot(data)\n",
    "plt.title('Workdays', fontsize=20)\n",
    "plt.xlabel('Number of travels', fontsize=15)\n",
    "plt.ylabel('People (mlns)', fontsize=15)\n",
    "plt.show()"
   ]
  },
  {
   "cell_type": "code",
   "execution_count": 60,
   "metadata": {},
   "outputs": [
    {
     "name": "stdout",
     "output_type": "stream",
     "text": [
      "[17.99087468  3.49904746  8.88811573 16.03727991]\n",
      "[15.7702326   2.27995498  9.11218063 19.2726102 ]\n"
     ]
    }
   ],
   "source": [
    "print(data_weekend.mean().values)\n",
    "print(data.mean().values)"
   ]
  },
  {
   "cell_type": "code",
   "execution_count": 61,
   "metadata": {},
   "outputs": [
    {
     "data": {
      "image/png": "[encoded data removed]",
      "text/plain": [
       "<Figure size 432x288 with 2 Axes>"
      ]
     },
     "metadata": {},
     "output_type": "display_data"
    }
   ],
   "source": [
    "# Pie chart of the population divided in weekends or not\n",
    "# where the slices will be ordered and plotted counter-clockwise:\n",
    "labels = ['0', '1', '2', '2+']\n",
    "size_weekend = data_weekend.mean().values\n",
    "size_work = data.mean().values\n",
    "explode = (0, 0, 0, 0)  # only \"explode\" the 2nd slice\n",
    "\n",
    "fig, ax = plt.subplots(1,2)\n",
    "ax[1].pie(size_weekend, explode=explode, labels=labels, autopct='%1.1f%%', startangle=90)\n",
    "ax[1].axis('equal')  # Equal aspect ratio ensures that pie is drawn as a circle.\n",
    "ax[1].set_title('Weekend', fontsize=20)\n",
    "ax[0].pie(size_work, explode=explode, labels=labels, autopct='%1.1f%%', startangle=90)\n",
    "ax[0].axis('equal')  # Equal aspect ratio ensures that pie is drawn as a circle.\n",
    "ax[0].set_title('Workday', fontsize=20)\n",
    "plt.legend()\n",
    "plt.show()"
   ]
  },
  {
   "cell_type": "markdown",
   "metadata": {},
   "source": [
    "Sort the municipalities w.r.t. the number of people and take the 10 most populous:"
   ]
  },
  {
   "cell_type": "code",
   "execution_count": 62,
   "metadata": {},
   "outputs": [
    {
     "name": "stdout",
     "output_type": "stream",
     "text": [
      "Number of municipalities: 2186\n",
      "Number of people in each municipality: [ 9009.173 10273.544  6470.919 ...  5662.869 83134.436 81229.816]\n",
      "Most populated municipalities: ['28079' '08019' '46250' '41091' '50297' '29067' '30030' '07040' '35016'\n",
      " '48020'] and their population [2.99618946 1.53280741 0.73114295 0.64507061 0.64392554 0.54934492\n",
      " 0.41993833 0.39058316 0.3751612  0.32980363]\n"
     ]
    },
    {
     "data": {
      "image/png": "[encoded data removed]",
      "text/plain": [
       "<Figure size 864x576 with 1 Axes>"
      ]
     },
     "metadata": {
      "needs_background": "light"
     },
     "output_type": "display_data"
    }
   ],
   "source": [
    "municipios = df2.loc[df2['day']==1, 'municipio'].unique()\n",
    "print(f'Number of municipalities: {len(municipios)}')\n",
    "\n",
    "# use day 1 to calculate the population in each municipality\n",
    "df_muni = df2.loc[df2['day']==1].groupby(by='municipio').sum()\n",
    "n = df_muni['personas'].values\n",
    "print(f'Number of people in each municipality: {n}')\n",
    "index = np.argsort(n)[::-1][:10]\n",
    "best_muni = municipios[index]\n",
    "best_names = ['Madrid', 'Barcelona', 'Valencia', 'Siviglia', 'Zaragoza', 'Malaga', 'Murcia', 'Maiorca', 'GranCanaria', 'Bilbao']\n",
    "best_pop = n[index]*1e-6\n",
    "print(f'Most populated municipalities: {best_muni} and their population {best_pop}')\n",
    "plt.figure(figsize = (12,8))\n",
    "plt.bar(best_names, best_pop)\n",
    "plt.ylabel('Population (mln)', fontsize=15)\n",
    "plt.xticks(fontsize=12.5)\n",
    "plt.title('Most populated cities', fontsize=20)\n",
    "plt.show()"
   ]
  },
  {
   "cell_type": "markdown",
   "metadata": {},
   "source": [
    "Behaviour of different cities in mobility (average number of travels):"
   ]
  },
  {
   "cell_type": "code",
   "execution_count": null,
   "metadata": {},
   "outputs": [],
   "source": [
    "city_dict = dict.fromkeys(best_names, None)\n",
    "x = df2['numero_viajes'].unique()\n",
    "for i in range(len(best_muni)):\n",
    "    name = best_names[i]\n",
    "    print(f'City: {name}')\n",
    "    m = best_muni[i]\n",
    "    df_muni = df2.loc[df2['municipio']==m] \n",
    "    df_muni['personas'] = df_muni['personas']/best_pop[i]\n",
    "    tmp = df_muni.groupby(by='numero_viajes').mean()\n",
    "    tmp['personas'] = tmp['personas']/tmp['personas'].sum()\n",
    "    print(tmp.head())\n",
    "    plt.figure(figsize=(12,8))\n",
    "    plt.bar(x, tmp['personas'].values)\n",
    "    plt.show()\n",
    "    city_dict[name] = tmp['personas']"
   ]
  },
  {
   "cell_type": "markdown",
   "metadata": {},
   "source": [
    "Proportion of number of viajes per city (most popolous):"
   ]
  },
  {
   "cell_type": "code",
   "execution_count": 64,
   "metadata": {},
   "outputs": [
    {
     "data": {
      "image/png": "[encoded data removed]",
      "text/plain": [
       "<Figure size 1008x576 with 1 Axes>"
      ]
     },
     "metadata": {
      "needs_background": "light"
     },
     "output_type": "display_data"
    }
   ],
   "source": [
    "zero = []\n",
    "one = []\n",
    "two = []\n",
    "two_plus = []\n",
    "for d in best_names:\n",
    "    zero.append(city_dict[d][0])\n",
    "    one.append(city_dict[d][1])\n",
    "    two.append(city_dict[d][2])\n",
    "    two_plus.append(city_dict[d][3])\n",
    "b_two = list(np.add(zero, one))\n",
    "b_two_plus = list(np.add(b_two, two))\n",
    "\n",
    "c = np.arange(1, 4 + 1)\n",
    "norm = mpl.colors.Normalize(vmin=c.min(), vmax=c.max())\n",
    "cmap = mpl.cm.ScalarMappable(norm=norm, cmap=mpl.cm.Blues)\n",
    "cmap.set_array([])\n",
    "\n",
    "\n",
    "plt.figure(figsize=(14,8))\n",
    "plt.bar(best_names, zero, label='0', color = cmap.to_rgba(6))\n",
    "plt.bar(best_names, one, bottom=zero, label='1', color=cmap.to_rgba(3.2))\n",
    "plt.bar(best_names, two, bottom=b_two, label='2', color=cmap.to_rgba(2.4))\n",
    "plt.bar(best_names, two_plus, bottom=b_two_plus, label='2+', color=cmap.to_rgba(1.6))\n",
    "plt.ylabel('Proportion', fontsize=15)\n",
    "plt.legend()\n",
    "plt.title('Proportion of mean number of travels', fontsize=20)\n",
    "plt.xticks(best_names, fontsize=13)\n",
    "plt.savefig('figures/mean_travels_city_hist.png')\n",
    "plt.show()"
   ]
  },
  {
   "cell_type": "code",
   "execution_count": 65,
   "metadata": {},
   "outputs": [
    {
     "data": {
      "image/png": "[encoded data removed]",
      "text/plain": [
       "<Figure size 1008x576 with 1 Axes>"
      ]
     },
     "metadata": {
      "needs_background": "light"
     },
     "output_type": "display_data"
    }
   ],
   "source": [
    "# Add variable 'external' (if the travel is internal or external):\n",
    "# TODO: When origen!=destino, which are the most popular destinations? how many internal travels? how many external?\n",
    "v = 1*(df['origen']!=df['destino']).values\n",
    "df['external'] = v\n",
    "df.head()\n",
    "df_int = df.groupby(['day', 'external']).sum()\n",
    "# create dictionary of distancia\n",
    "days = df['day'].unique()\n",
    "category = df['external'].unique()\n",
    "prop_dict = dict.fromkeys(days, None)\n",
    "for j in days:\n",
    "    df_day = df_int.loc[j,:]\n",
    "    prop = []\n",
    "    # for each hour save a list of 6 values, representing the travels in each of the 6 categories\n",
    "    for i in category:\n",
    "        l = df_day.loc[i]['viajes']\n",
    "        prop.append(l)\n",
    "    prop_dict[j] = prop\n",
    "zero = []\n",
    "one = []\n",
    "for d in days:\n",
    "    zero.append(prop_dict[d][0]*1e-6)\n",
    "    one.append(prop_dict[d][1]*1e-6)\n",
    "\n",
    "b_two = list(np.add(zero, one))\n",
    "c = np.arange(1, 6 + 1)\n",
    "norm = mpl.colors.Normalize(vmin=c.min(), vmax=c.max())\n",
    "cmap = mpl.cm.ScalarMappable(norm=norm, cmap=mpl.cm.Blues)\n",
    "cmap.set_array([])\n",
    "fig, ax = plt.subplots(figsize=(14,8))\n",
    "ax.bar(days, zero, label='internal', color = cmap.to_rgba(6))\n",
    "ax.bar(days, one, bottom=zero, label='external', color=cmap.to_rgba(4))\n",
    "\n",
    "ax.set_xlabel('Day', fontsize=15)\n",
    "ax.set_ylabel('Number of travels (mlns)', fontsize=15)\n",
    "plt.legend(loc='upper left')\n",
    "ax.set_title('Number of internal/external travels ', fontsize=20)\n",
    "ax.set_xticks(days)\n",
    "for i in weekdays:\n",
    "    ax.get_xticklabels()[i-1].set_color(\"red\")\n",
    "plt.show()"
   ]
  },
  {
   "cell_type": "markdown",
   "metadata": {},
   "source": [
    "Now plot daily average of viajes int/ext in the most popolous cities:"
   ]
  },
  {
   "cell_type": "code",
   "execution_count": 80,
   "metadata": {},
   "outputs": [
    {
     "data": {
      "text/plain": [
       "array(['28079', '08019', '46250', '41091', '50297', '29067', '30030',\n",
       "       '07040', '35016', '48020'], dtype=object)"
      ]
     },
     "execution_count": 80,
     "metadata": {},
     "output_type": "execute_result"
    }
   ],
   "source": [
    "best_muni"
   ]
  },
  {
   "cell_type": "code",
   "execution_count": 86,
   "metadata": {},
   "outputs": [],
   "source": [
    "df_city = df.loc[df['origen'].isin(best_muni)]"
   ]
  },
  {
   "cell_type": "code",
   "execution_count": 87,
   "metadata": {},
   "outputs": [],
   "source": [
    "df_city = df_city.groupby(['origen', 'external', 'day']).sum()"
   ]
  },
  {
   "cell_type": "code",
   "execution_count": 88,
   "metadata": {},
   "outputs": [
    {
     "data": {
      "text/html": [
       "<div>\n",
       "<style scoped>\n",
       "    .dataframe tbody tr th:only-of-type {\n",
       "        vertical-align: middle;\n",
       "    }\n",
       "\n",
       "    .dataframe tbody tr th {\n",
       "        vertical-align: top;\n",
       "    }\n",
       "\n",
       "    .dataframe thead th {\n",
       "        text-align: right;\n",
       "    }\n",
       "</style>\n",
       "<table border=\"1\" class=\"dataframe\">\n",
       "  <thead>\n",
       "    <tr style=\"text-align: right;\">\n",
       "      <th></th>\n",
       "      <th></th>\n",
       "      <th></th>\n",
       "      <th>periodo</th>\n",
       "      <th>viajes</th>\n",
       "      <th>viajes_km</th>\n",
       "      <th>weekend</th>\n",
       "    </tr>\n",
       "    <tr>\n",
       "      <th>origen</th>\n",
       "      <th>external</th>\n",
       "      <th>day</th>\n",
       "      <th></th>\n",
       "      <th></th>\n",
       "      <th></th>\n",
       "      <th></th>\n",
       "    </tr>\n",
       "  </thead>\n",
       "  <tbody>\n",
       "    <tr>\n",
       "      <th rowspan=\"5\" valign=\"top\">07040</th>\n",
       "      <th rowspan=\"5\" valign=\"top\">0</th>\n",
       "      <th>1</th>\n",
       "      <td>1161</td>\n",
       "      <td>851550.424</td>\n",
       "      <td>2435162.131</td>\n",
       "      <td>0</td>\n",
       "    </tr>\n",
       "    <tr>\n",
       "      <th>2</th>\n",
       "      <td>1151</td>\n",
       "      <td>862359.760</td>\n",
       "      <td>2470017.297</td>\n",
       "      <td>0</td>\n",
       "    </tr>\n",
       "    <tr>\n",
       "      <th>3</th>\n",
       "      <td>1221</td>\n",
       "      <td>882486.627</td>\n",
       "      <td>2519590.993</td>\n",
       "      <td>0</td>\n",
       "    </tr>\n",
       "    <tr>\n",
       "      <th>4</th>\n",
       "      <td>1175</td>\n",
       "      <td>852768.910</td>\n",
       "      <td>2406575.498</td>\n",
       "      <td>0</td>\n",
       "    </tr>\n",
       "    <tr>\n",
       "      <th>5</th>\n",
       "      <td>1180</td>\n",
       "      <td>911142.015</td>\n",
       "      <td>2593041.488</td>\n",
       "      <td>0</td>\n",
       "    </tr>\n",
       "  </tbody>\n",
       "</table>\n",
       "</div>"
      ],
      "text/plain": [
       "                     periodo      viajes    viajes_km  weekend\n",
       "origen external day                                           \n",
       "07040  0        1       1161  851550.424  2435162.131        0\n",
       "                2       1151  862359.760  2470017.297        0\n",
       "                3       1221  882486.627  2519590.993        0\n",
       "                4       1175  852768.910  2406575.498        0\n",
       "                5       1180  911142.015  2593041.488        0"
      ]
     },
     "execution_count": 88,
     "metadata": {},
     "output_type": "execute_result"
    }
   ],
   "source": [
    "df_city.head()"
   ]
  },
  {
   "cell_type": "code",
   "execution_count": 94,
   "metadata": {},
   "outputs": [
    {
     "data": {
      "image/png": "[encoded data removed]",
      "text/plain": [
       "<Figure size 1008x576 with 1 Axes>"
      ]
     },
     "metadata": {
      "needs_background": "light"
     },
     "output_type": "display_data"
    }
   ],
   "source": [
    "prop_dict = dict.fromkeys(best_muni, None)\n",
    "for code in best_muni:\n",
    "    m = []\n",
    "    for c in category:\n",
    "        df_tmp = df_city.loc[code, c, :]\n",
    "        m.append(df_tmp.mean()['viajes'])\n",
    "    m = np.array(m) / np.sum(m)\n",
    "    prop_dict[code] = m\n",
    "\n",
    "zero = []\n",
    "one = []\n",
    "for d in best_muni:\n",
    "    zero.append(prop_dict[d][0])\n",
    "    one.append(prop_dict[d][1])\n",
    "\n",
    "b_two = list(np.add(zero, one))\n",
    "c = np.arange(1, 6 + 1)\n",
    "norm = mpl.colors.Normalize(vmin=c.min(), vmax=c.max())\n",
    "cmap = mpl.cm.ScalarMappable(norm=norm, cmap=mpl.cm.Blues)\n",
    "cmap.set_array([])\n",
    "fig, ax = plt.subplots(figsize=(14,8))\n",
    "ax.bar(best_names, zero, label='internal', color = cmap.to_rgba(6))\n",
    "ax.bar(best_names, one, bottom=zero, label='external', color=cmap.to_rgba(4))\n",
    "\n",
    "ax.set_xlabel('City', fontsize=15)\n",
    "plt.legend(loc='upper left')\n",
    "ax.set_title('Proportion of internal/external travels ', fontsize=20)\n",
    "ax.set_xticks(best_names)\n",
    "plt.show()\n"
   ]
  },
  {
   "cell_type": "code",
   "execution_count": 97,
   "metadata": {},
   "outputs": [
    {
     "name": "stdout",
     "output_type": "stream",
     "text": [
      "{'28079': array([0.84182269, 0.15817731]), '08019': array([0.77415871, 0.22584129]), '46250': array([0.72115801, 0.27884199]), '41091': array([0.80149903, 0.19850097]), '50297': array([0.89244333, 0.10755667]), '29067': array([0.86137438, 0.13862562]), '30030': array([0.77771247, 0.22228753]), '07040': array([0.80293952, 0.19706048]), '35016': array([0.81932069, 0.18067931]), '48020': array([0.7178327, 0.2821673])}\n",
      "['28079' '08019' '46250' '41091' '50297' '29067' '30030' '07040' '35016'\n",
      " '48020']\n",
      "['Madrid', 'Barcelona', 'Valencia', 'Siviglia', 'Zaragoza', 'Malaga', 'Murcia', 'Maiorca', 'GranCanaria', 'Bilbao']\n"
     ]
    }
   ],
   "source": [
    "print(prop_dict)\n",
    "print(best_muni)\n",
    "print(best_names)"
   ]
  }
 ],
 "metadata": {
  "kernelspec": {
   "display_name": "Python 3.8.13 ('SVDD')",
   "language": "python",
   "name": "python3"
  },
  "language_info": {
   "codemirror_mode": {
    "name": "ipython",
    "version": 3
   },
   "file_extension": ".py",
   "mimetype": "text/x-python",
   "name": "python",
   "nbconvert_exporter": "python",
   "pygments_lexer": "ipython3",
   "version": "3.8.13"
  },
  "orig_nbformat": 4,
  "vscode": {
   "interpreter": {
    "hash": "9ce925694ec436c774306409dcc51e51dfc4a5e610b25f8a2638c8f82e57a907"
   }
  }
 },
 "nbformat": 4,
 "nbformat_minor": 2
}
